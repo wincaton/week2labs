{
 "cells": [
  {
   "cell_type": "markdown",
   "metadata": {},
   "source": [
    "Graduate Introduction to Python BGEN 632\n",
    "Week 2: Independet Lab\n",
    "Winston Caton\n",
    "9 March 2025"
   ]
  },
  {
   "cell_type": "code",
   "execution_count": 1,
   "metadata": {},
   "outputs": [
    {
     "name": "stdout",
     "output_type": "stream",
     "text": [
      "Welcome to my Fahrenheit to Celsius converter, which I hope you find useful!\n",
      "Please input the Celsius value you would like to convert to Fahrenheit\n",
      "37.0 degrees Celsius is 98.60000000000001 degrees Fahrenheit\n"
     ]
    }
   ],
   "source": [
    "celsius = 0.0\n",
    "fahrenheit = 0.0\n",
    "print(\"Welcome to my Fahrenheit to Celsius converter, which I hope you find useful!\")\n",
    "\n",
    "print(\"Please input the Celsius value you would like to convert to Fahrenheit\")\n",
    "celsius = float(input(\"Please provide a value, in Celsius, to convert:\\n\"))\n",
    "\n",
    "##Float makes sense to me to use, instead of integer, because we can convert decimal temperatures like 34.4 degrees instead of just being limited to the integers\n",
    "\n",
    "\n",
    "fahrenheit = (celsius * (9/5)) + 32\n",
    "print(f\"{celsius} degrees Celsius is {fahrenheit} degrees Fahrenheit\")\n",
    "\n"
   ]
  },
  {
   "cell_type": "code",
   "execution_count": 2,
   "metadata": {},
   "outputs": [
    {
     "name": "stdout",
     "output_type": "stream",
     "text": [
      "98\n"
     ]
    },
    {
     "data": {
      "text/plain": [
       "int"
      ]
     },
     "execution_count": 2,
     "metadata": {},
     "output_type": "execute_result"
    }
   ],
   "source": [
    "int_fahrenheit = int(fahrenheit)\n",
    "print(int_fahrenheit)\n",
    "type(int_fahrenheit)"
   ]
  }
 ],
 "metadata": {
  "kernelspec": {
   "display_name": "Python 3",
   "language": "python",
   "name": "python3"
  },
  "language_info": {
   "codemirror_mode": {
    "name": "ipython",
    "version": 3
   },
   "file_extension": ".py",
   "mimetype": "text/x-python",
   "name": "python",
   "nbconvert_exporter": "python",
   "pygments_lexer": "ipython3",
   "version": "3.12.2"
  }
 },
 "nbformat": 4,
 "nbformat_minor": 2
}
