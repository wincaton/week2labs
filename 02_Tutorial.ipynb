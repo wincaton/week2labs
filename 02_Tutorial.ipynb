{
 "cells": [
  {
   "cell_type": "markdown",
   "id": "debc8f2e-433e-459e-80f7-ca53c5ec06c1",
   "metadata": {
    "editable": true,
    "slideshow": {
     "slide_type": ""
    },
    "tags": []
   },
   "source": [
    "UM MSBA - BGEN 632\n",
    "# Week 2 Tutorial: Fundamental Aspects of Python \n",
    "\n",
    "Our primary goal in this module is to cover some fundamental aspects of Python. Specifically, you will learn about:\n",
    "\n",
    "* Syntax and coding conventions\n",
    "* Variables and data types\n",
    "* Inputs and outputs\n",
    "\n",
    "There is A LOT of information in this document. Please review it carefully. You may need to review it more than once before you are ready to begin this week's labs. Do not be discouraged if it doesn't all immediately make sense to you—you will get there with time and continued practice. &#x1F642;\n",
    "\n",
    "---\n",
    "\n",
    "## Python is an Interpreted Language\n",
    "\n",
    "In a compiled language, you generally need to write all of your code before transforming it into an executable program using specific commands. Only after this compilation can you run your program.\n",
    "\n",
    "In contrast, interpreted languages compile code as you execute it. This allows for a more straightforward, line-by-line development process, making it easier to understand what’s happening in the code.\n",
    "\n",
    "*JupyterLab* is an interactive development environment that allows you to execute a line of code, or several lines of code, at a time through a shell (interpreter or console).\n",
    "\n",
    "## Notebook Cell Types\n",
    "\n",
    "Recall that there are several cell options available in Python notebooks: Markdown, Code, Raw. This text is written within a Markdown cell. Markdown cells do not contain executable code. Instead, they contain formatted text for descriptions, elaboration, rationale, and other important information regarding the contents of the notebook.\n",
    "\n",
    "*Okay, now let's get to syntax.*\n",
    "\n",
    "---\n",
    "\n",
    "## Syntax\n",
    "\n",
    "All programming languages have their own nuanced way of writing code. Syntax refers to the rules that govern the structure and organization of the language. The Python programming language generally has easy-to-understand syntax (it's all relative); it favors simplicity. \n",
    "\n",
    "### Coding Conventions\n",
    "\n",
    "As mentioned in Canvas, writing high quality code is important. One way to improve the quality of your code is through the adoption of coding conventions. For Python, the [PEP 8 style guide](https://peps.python.org/pep-0008/) is recommended. The goal of a style guide for a programming language is to improve the readability of code, creating consistency within your projects and across all Python projects. Although coding conventions are distinct from syntax, I encourage you to adopt them early in your use of Python to improve your code quality.  \n",
    "\n",
    "### Indentation\n",
    "\n",
    "While some languages do not require indentation, it is an essential aspect of writing code in Python. Indentation refers to the whitespace preceding a line of code. Whitespace can be created using spaces or tabs. In Python, we use indentation to define code blocks. Other languages make use of braces `{}` to define code blocks. \n",
    "\n",
    "Consider the example in the code cell below. Toward the bottom, there is an if-statement that compares the variables $x$ and $y$, and returns some text in the case that it is true.\n",
    "\n",
    "*Run the example code in the code cell directly below* (tip: shift+enter, shift+return, or right pointing arrow in toolbar). You'll see that this code produces an error: an indentation error! This is because Python expects indentation after the if-statement. Without it, the code errors out."
   ]
  },
  {
   "cell_type": "code",
   "execution_count": 1,
   "id": "d18da124-19e4-4345-9e99-a65299f4afbf",
   "metadata": {},
   "outputs": [
    {
     "ename": "IndentationError",
     "evalue": "expected an indented block after 'if' statement on line 3 (4000461140.py, line 4)",
     "output_type": "error",
     "traceback": [
      "\u001b[1;36m  Cell \u001b[1;32mIn[1], line 4\u001b[1;36m\u001b[0m\n\u001b[1;33m    print(\"x is greater than y\")\u001b[0m\n\u001b[1;37m    ^\u001b[0m\n\u001b[1;31mIndentationError\u001b[0m\u001b[1;31m:\u001b[0m expected an indented block after 'if' statement on line 3\n"
     ]
    }
   ],
   "source": [
    "x = 33\n",
    "y = 3\n",
    "if x > y:\n",
    "print(\"x is greater than y\")"
   ]
  },
  {
   "cell_type": "markdown",
   "id": "1ae13465-3969-43d9-bfd8-c16e2faf9e88",
   "metadata": {},
   "source": [
    "Now, let's try out the code with appropriate indentation. \n",
    "\n",
    "*Run the example code in the code cell directly below.* You'll see that the code has returned the statement `x is greater than y` because it is true (i.e., 33 is in fact larger than 3).  "
   ]
  },
  {
   "cell_type": "code",
   "execution_count": 2,
   "id": "48fcf553-5250-4862-b96b-0e65fa770470",
   "metadata": {},
   "outputs": [
    {
     "name": "stdout",
     "output_type": "stream",
     "text": [
      "x is greater than y\n"
     ]
    }
   ],
   "source": [
    "x = 33\n",
    "y = 3\n",
    "if x > y:\n",
    "    print(\"x is greater than y\")"
   ]
  },
  {
   "cell_type": "markdown",
   "id": "9791f4aa-faa7-4731-a945-c7d9355f4a6c",
   "metadata": {},
   "source": [
    "#### Simplicity vs. Clarity\n",
    "\n",
    "While advantageous for writing simple code, this syntax can lead to errors for first-time users of Python. The advantage of a code block encapsulated within braces is that there is a clear delineation of the start and end of a statement. Everything contained within the braces is obvious. In Python, the code may not be so obvious. What may be included in the if-statement may seem unclear. However, with continued exposure to Python code and practice writing Python code, you will be able to identify the start and end of statements.\n",
    "\n",
    "### Parentheses\n",
    "\n",
    "Again, Python differs from some other programming languages: it does not necessitate the use of parentheses for conditions in if-statements. In the above example, the conditional expression is $x > y$. The if-statement checks *if* that condition is `True` or `False` based on the pre-defined value of $x$ and $y$. Rather than use parantheses to enclose the condition, we use a colon `:` to denote the end of the expression,\n",
    "\n",
    "```\n",
    "if x > y:\n",
    "```\n",
    "\n",
    "### Blank Lines\n",
    "\n",
    "Blank lines are ignored in Python. There is nothing to execute and they do not mean anything. Instead, blank lines are for the benefit of humans. \n",
    "\n",
    "Blank lines allow us to visually segment lines of code which in turn makes them easier to read. You may also choose to add inline comments within code cells by using the hash `#` symbol before the comment text. \n",
    "* You can create multi-line commments using three double quotation marks `\"\"\"` at the beginning and end of the text to be commented out. However, if you are writing Python code in a notebook and have a multi-line comment explaining you code, it's best to put it in a Markdown cell adjeacent to the code.\n",
    "* When developing new Python code, you often try out different approaches, work through broken code, and hold onto code snippets for future use. Comments can be used in code cells to block out a section of code and prevent it from being run. However, you should routinely clean up your notebook and remove dead code.  \n",
    "\n",
    "Okay, let's take the code from our example above and add some empty lines and single line comments. \n",
    "\n",
    "*Run the example code in the code cell directly below.* With the addition of these empty lines and inline comments, we can see a clear delineation between variables $x$ and $y$ and the if-statement. "
   ]
  },
  {
   "cell_type": "code",
   "execution_count": 3,
   "id": "f85f9724-0630-4d5c-89e4-8dffe3098884",
   "metadata": {},
   "outputs": [
    {
     "name": "stdout",
     "output_type": "stream",
     "text": [
      "x is greater than y\n"
     ]
    }
   ],
   "source": [
    "# Create variables x and y\n",
    "x = 33\n",
    "y = 3\n",
    "\n",
    "# Compare the variables using if\n",
    "if x > y:\n",
    "    print(\"x is greater than y\")"
   ]
  },
  {
   "cell_type": "markdown",
   "id": "484bb76f-5b8e-41a2-a229-7f41eaabc1e3",
   "metadata": {},
   "source": [
    "### Case Sensitivity\n",
    "\n",
    "One important aspect of syntax that is not optional is case sensitivity. Many programming languages are case sensitive. That is, certain code has to be written with case in mind. \n",
    "\n",
    "Consider the example we've used in code cells above. The code in code cell above is written correctly and will execute without issue. What happens if we change one of the variable names to upper case in our conditional expression? "
   ]
  },
  {
   "cell_type": "code",
   "execution_count": 4,
   "id": "eb36d6ef-fe87-47ce-a033-c50c50218aec",
   "metadata": {
    "editable": true,
    "slideshow": {
     "slide_type": ""
    },
    "tags": []
   },
   "outputs": [
    {
     "ename": "NameError",
     "evalue": "name 'Y' is not defined",
     "output_type": "error",
     "traceback": [
      "\u001b[1;31m---------------------------------------------------------------------------\u001b[0m",
      "\u001b[1;31mNameError\u001b[0m                                 Traceback (most recent call last)",
      "Cell \u001b[1;32mIn[4], line 6\u001b[0m\n\u001b[0;32m      3\u001b[0m y \u001b[38;5;241m=\u001b[39m \u001b[38;5;241m3\u001b[39m\n\u001b[0;32m      5\u001b[0m \u001b[38;5;66;03m# Compare the variables using if\u001b[39;00m\n\u001b[1;32m----> 6\u001b[0m \u001b[38;5;28;01mif\u001b[39;00m x \u001b[38;5;241m>\u001b[39m \u001b[43mY\u001b[49m:\n\u001b[0;32m      7\u001b[0m     \u001b[38;5;28mprint\u001b[39m(\u001b[38;5;124m\"\u001b[39m\u001b[38;5;124mx is greater than y\u001b[39m\u001b[38;5;124m\"\u001b[39m)\n",
      "\u001b[1;31mNameError\u001b[0m: name 'Y' is not defined"
     ]
    }
   ],
   "source": [
    "# Create variables x and y\n",
    "x = 33\n",
    "y = 3\n",
    "\n",
    "# Compare the variables using if\n",
    "if x > Y:\n",
    "    print(\"x is greater than y\")"
   ]
  },
  {
   "cell_type": "markdown",
   "id": "bba27e63-3908-4561-9a81-7fc7b581e5d3",
   "metadata": {},
   "source": [
    "*Run the example code in the code cell directly above.* Our code now produces an error: a name error. y and Y are not interchangeable\n",
    "\n",
    "Often, when a student encounters an error in their code, as a novice, the two main culprits are incorrect case and improper use of indentation. Please remember both of these!\n",
    "\n",
    "---\n",
    "\n",
    "## Variables\n",
    "\n",
    "A variable is a temporary container that stores certain information. We use the `=` operator to assign some value to a variable. The naming of a variable in Python has to fulfill the following rules:\n",
    "\n",
    "* must start with a letter or underscore character\n",
    "* can contain only alpha-numeric characters or the underscore character (A-z, 0-9, _ )\n",
    "* cannot be a reserved keyword in Python (a complete list can be found [here](https://docs.python.org/3.8/reference/lexical_analysis.html#keywords))\n",
    "* is case-sensitive (e.g., Year and year are two different variable names)\n",
    "\n",
    "In the code examples above, we created a pair of variables: $x$ and $y$. These variables are now stored in the current Python computing environment. We can use the `print()` function to print out the value of variables to the console. Alternatively, we can just type out the variable name. \n",
    "\n",
    "*Run the example code in the code cells directly below*. As you can see, small differences in your code produce differences in output. We'll discuss this in greater detail later. But, for now, note that it is not strictly necessary to use print() in JupyterLab to display output. "
   ]
  },
  {
   "cell_type": "code",
   "execution_count": 5,
   "id": "8f3e4012-710d-4e08-b1b4-fcdcf26232e4",
   "metadata": {},
   "outputs": [
    {
     "name": "stdout",
     "output_type": "stream",
     "text": [
      "33\n",
      "3\n"
     ]
    }
   ],
   "source": [
    "print(x)\n",
    "print(y)"
   ]
  },
  {
   "cell_type": "code",
   "execution_count": 6,
   "id": "f2f86ceb-a26d-4c13-bd26-6f8cdf317c48",
   "metadata": {},
   "outputs": [
    {
     "name": "stdout",
     "output_type": "stream",
     "text": [
      "33 3\n"
     ]
    }
   ],
   "source": [
    "print(x, y)"
   ]
  },
  {
   "cell_type": "code",
   "execution_count": 7,
   "id": "11eff051-9187-41a5-9bd4-16ba4ae211d3",
   "metadata": {},
   "outputs": [
    {
     "data": {
      "text/plain": [
       "33"
      ]
     },
     "execution_count": 7,
     "metadata": {},
     "output_type": "execute_result"
    }
   ],
   "source": [
    "x"
   ]
  },
  {
   "cell_type": "code",
   "execution_count": 8,
   "id": "f6fa1ec5-6947-4834-9bae-946bb8ba9287",
   "metadata": {},
   "outputs": [
    {
     "data": {
      "text/plain": [
       "(33, 3)"
      ]
     },
     "execution_count": 8,
     "metadata": {},
     "output_type": "execute_result"
    }
   ],
   "source": [
    "x, y"
   ]
  },
  {
   "cell_type": "markdown",
   "id": "76d7337e-0898-4f67-aa86-3b3fdbc9a90b",
   "metadata": {},
   "source": [
    "---\n",
    "\n",
    "## Data Types \n",
    "\n",
    "Data comes in different types. For example, the newly created variables $x$ and $y$ are numeric. $x$ and $y$ are whole numbers, so their data type is integer, or `int`. \n",
    "\n",
    "```\n",
    "x = 33\n",
    "y = 3\n",
    "```\n",
    "\n",
    "In contrast, a number with decimal places has a data type of `float`. \n",
    "\n",
    "```\n",
    "x = 33.0\n",
    "y = 3.0\n",
    "```"
   ]
  },
  {
   "cell_type": "markdown",
   "id": "63abebdc-08e0-41a2-9cca-eaf42fe011e7",
   "metadata": {},
   "source": [
    "The table below provides a brief description of some common data types (but there are others). \n",
    "\n",
    "| Data Type | Description |\n",
    "|:---|:---|\n",
    "| `str` | Stores an immutable sequence of Unicode characters. Python has no separate `char` data type. |\n",
    "| `int` | Stores whole numbers constructed from a number or string. Be default, the base is 10, but the allowed bases are 0 and 2–36.  |\n",
    "| `float` | Stores a floating point number constructed from a number or a string. |\n",
    "| `list` | Stores collections of homogeneous items. Lists are mutable sequences. |\n",
    "| `dict` | Stores a collection of key-value pairs. As a mapping object, it is mutable. |\n",
    "| `bool` | A representation of a logical, truth value. It has exactly two constant instances of `True` and `False`. While `bool` is a subclass of `int`, and in many numeric contexts `False` and `True` behave like the integers `0` and `1`, respectively, you should not rely on the numeric representation. Use the text values or use explicit conversion. |\n",
    "\n",
    "In Python, you do not need to explicitly specify the data type. Python prefers what is referred to as *inference*: the programming language will infer from the context of the variable's assignment what the data type should be. \n",
    "\n",
    "We can use the `type()` function, with or without the `print()` function, to inspect the data type of a given variable.\n",
    "\n",
    "*Run the example code in the code cells below*. Python automatically determined the variable has the data type int!"
   ]
  },
  {
   "cell_type": "code",
   "execution_count": 9,
   "id": "ad2bd627-2110-4eec-a144-da8115c1c9c4",
   "metadata": {},
   "outputs": [
    {
     "data": {
      "text/plain": [
       "int"
      ]
     },
     "execution_count": 9,
     "metadata": {},
     "output_type": "execute_result"
    }
   ],
   "source": [
    "type(x)"
   ]
  },
  {
   "cell_type": "code",
   "execution_count": 10,
   "id": "132ce9eb-dfe5-4a84-9560-2092a5abcc21",
   "metadata": {},
   "outputs": [
    {
     "name": "stdout",
     "output_type": "stream",
     "text": [
      "<class 'int'>\n"
     ]
    }
   ],
   "source": [
    "print(type(x))"
   ]
  },
  {
   "cell_type": "markdown",
   "id": "4710e586-d879-4515-8a97-439ab0a1d4b7",
   "metadata": {},
   "source": [
    "### Type Conversion and Casting\n",
    "\n",
    "If you would like to be explicit and declare variables, then you need to rely on type conversion or type casting. This process is relatively straightforward in Python. \n",
    "\n",
    "In Python, to declare or cast variable as a specific type you need to use a constructor method. Python provides a constructor for each of its data types. The following table presents those constructors:\n",
    "\n",
    "| Data Type | Description | Constructor |\n",
    "|:---|:---|:---|\n",
    "| `str` | Stores an immutable sequence of Unicode characters. Python has no separate `char` data type. | [`str()`](https://docs.python.org/3/library/stdtypes.html#str) |\n",
    "| `int` | Stores whole numbers constructed from a number or string. Be default, the base is 10, but the allowed bases are 0 and 2–36.  | [`int()`](https://docs.python.org/3/library/functions.html#int) |\n",
    "| `float` | Stores a floating point number constructed from a number or a string. | [`float()`](https://docs.python.org/3/library/functions.html#float) |\n",
    "| `list` | Stores collections of homogeneous items. Lists are mutable sequences. | [`list()`](https://docs.python.org/3/library/stdtypes.html#list) |\n",
    "| `dict` | Stores a collection of key-value pairs. As a mapping object, it is mutable. | [`dict()`](https://docs.python.org/3/library/stdtypes.html#dict) |\n",
    "| `bool` | A representation of a logical, truth value. It has exactly two constant instances of `True` and `False`. While `bool` is a subclass of `int`, and in many numeric contexts `False` and `True` behave like the integers `0` and `1`, respectively, you should not rely on the numeric representation. Use the text values or use explicit conversion. | [`bool()`](https://docs.python.org/3/library/functions.html#bool) |\n",
    "\n",
    "To use a constructor method, we rely on a specific syntax:\n",
    "> *variable_name* = *constructor(value)*\n",
    "\n",
    "For example, if we have a variable that has the value 33 and we want to cast it as a `float`, we would use the constructor method for `float()`.\n",
    "\n",
    "*Run the example code in the code cells below*. "
   ]
  },
  {
   "cell_type": "code",
   "execution_count": 11,
   "id": "305a6cb8-3fc7-4d68-9221-7071e9177d29",
   "metadata": {},
   "outputs": [
    {
     "name": "stdout",
     "output_type": "stream",
     "text": [
      "33.0\n",
      "<class 'float'>\n"
     ]
    }
   ],
   "source": [
    "# Create the variable x\n",
    "x = float(33)\n",
    "\n",
    "# Print the value and data type of variable x\n",
    "print(x)\n",
    "print(type(x))"
   ]
  },
  {
   "cell_type": "markdown",
   "id": "15800624-7e9b-4b6d-974d-818d53d33109",
   "metadata": {},
   "source": [
    "### Strings\n",
    "\n",
    "Using numerical values tends to be more straight forward and easier to use in programming languages. This is because they behave in a logical fashion. Additionally, the functions and operations associated with them follow logical patterns. Characters and strings, on the other hand, are not so logical. Becoming familiar with how they operate is vitally important.\n",
    "\n",
    "What exactly is a string data type? The `str` type, at a basic level, represents Unicode characters. This can include characters from the alphabet, numbers, special characters (e.g., @, $, *, |, *), or a combination of all of those. Typically, if you have a word, phrase, or sentence you wish to capture, you will rely on `str`. Strings can be be created by enclosing characters inside single quotation marks `''` or double quotation marks `\"\"`.\n",
    "\n",
    "Let's create string to demonstrate. \n",
    "\n",
    "*Run the example code below*. We have used double quotation marks to create our string, but you can alternatively use single quotation marks (just be consistent). Note that it is note strignly necessary to use"
   ]
  },
  {
   "cell_type": "code",
   "execution_count": 12,
   "id": "c2a260e0-fe0b-48da-972b-49fc7d763ec0",
   "metadata": {},
   "outputs": [
    {
     "name": "stdout",
     "output_type": "stream",
     "text": [
      "BGEN 632 Grad. Intro. to Python\n"
     ]
    }
   ],
   "source": [
    "course = \"BGEN 632 Grad. Intro. to Python\"\n",
    "print(course)"
   ]
  },
  {
   "cell_type": "markdown",
   "id": "4230da21-8d0c-48f9-af6c-36c486aaf424",
   "metadata": {},
   "source": [
    "An important aspect of string types is they do not correct for spelling, grammar, or any kind of formatting. Whatever you input is what is stored.\n",
    "\n",
    "*Run the example code in the code cells below*."
   ]
  },
  {
   "cell_type": "code",
   "execution_count": 13,
   "id": "11c865d0-c0aa-46eb-9e6e-34e16dde5e9f",
   "metadata": {},
   "outputs": [
    {
     "name": "stdout",
     "output_type": "stream",
     "text": [
      "Hello World!\n"
     ]
    }
   ],
   "source": [
    "greeting = \"Hello World!\"\n",
    "print(greeting)"
   ]
  },
  {
   "cell_type": "code",
   "execution_count": 14,
   "id": "249cc2ef-0e70-472b-a47c-65435eb389b4",
   "metadata": {},
   "outputs": [
    {
     "name": "stdout",
     "output_type": "stream",
     "text": [
      "      Hello World!       \n"
     ]
    }
   ],
   "source": [
    "greeting = \"      Hello World!       \"\n",
    "print(greeting)"
   ]
  },
  {
   "cell_type": "code",
   "execution_count": 15,
   "id": "86f677aa-2f2b-4f42-813a-81da65f19b5a",
   "metadata": {},
   "outputs": [
    {
     "name": "stdout",
     "output_type": "stream",
     "text": [
      "H e l l o W o r l d !\n"
     ]
    }
   ],
   "source": [
    "greeting = \"H e l l o W o r l d !\"\n",
    "print(greeting)"
   ]
  },
  {
   "cell_type": "markdown",
   "id": "d4057bf1-cc1b-41f5-8543-9cf99b87849c",
   "metadata": {},
   "source": [
    "#### String Concatenation\n",
    "\n",
    "Sometimes you have multiple string variables and need to merge them and use them as a single value. The idea of concatenation is merging together separate strings. This is done using the `+` operator. We can also add a string containing empty space in between our variables by enclosing space inside quotation marks, `\" \"`. \n",
    "\n",
    "*Run the example code below*."
   ]
  },
  {
   "cell_type": "code",
   "execution_count": 18,
   "id": "6fc84e71-5b1c-4829-ab88-0972e0b4adef",
   "metadata": {},
   "outputs": [
    {
     "name": "stdout",
     "output_type": "stream",
     "text": [
      "BGEN 632 Grad. Intro. to Python\n"
     ]
    }
   ],
   "source": [
    "# Create the variables course_id and course_name\n",
    "course_id = \"BGEN 632\"\n",
    "course_name = \"Grad. Intro. to Python\"\n",
    "\n",
    "# Concatenate the variables course_id and course_name with an empty space string and create a new variable course\n",
    "course = course_id + \" \" + course_name\n",
    "\n",
    "# Print the variable course\n",
    "print(course)"
   ]
  },
  {
   "cell_type": "markdown",
   "id": "16f4265a-7b37-4683-9240-5fc320837879",
   "metadata": {},
   "source": [
    "You cannot concatenate a string with another data type. For example, you cannot concatenate a `string` with an `int`.\n",
    "\n",
    "*Run the example code below*. This produces a Type Error due to the different data types. "
   ]
  },
  {
   "cell_type": "code",
   "execution_count": 19,
   "id": "ee5a3725-2cd4-4404-8ec4-35a5aa464c1e",
   "metadata": {},
   "outputs": [
    {
     "ename": "TypeError",
     "evalue": "can only concatenate str (not \"int\") to str",
     "output_type": "error",
     "traceback": [
      "\u001b[1;31m---------------------------------------------------------------------------\u001b[0m",
      "\u001b[1;31mTypeError\u001b[0m                                 Traceback (most recent call last)",
      "Cell \u001b[1;32mIn[19], line 6\u001b[0m\n\u001b[0;32m      3\u001b[0m course_number \u001b[38;5;241m=\u001b[39m \u001b[38;5;241m632\u001b[39m\n\u001b[0;32m      5\u001b[0m \u001b[38;5;66;03m# Concatenate the variables course_number and course_prefix and create a new variable course_id\u001b[39;00m\n\u001b[1;32m----> 6\u001b[0m course_id \u001b[38;5;241m=\u001b[39m \u001b[43mcourse_prefix\u001b[49m\u001b[43m \u001b[49m\u001b[38;5;241;43m+\u001b[39;49m\u001b[43m \u001b[49m\u001b[38;5;124;43m\"\u001b[39;49m\u001b[38;5;124;43m \u001b[39;49m\u001b[38;5;124;43m\"\u001b[39;49m\u001b[43m \u001b[49m\u001b[38;5;241;43m+\u001b[39;49m\u001b[43m \u001b[49m\u001b[43mcourse_number\u001b[49m\n\u001b[0;32m      8\u001b[0m \u001b[38;5;66;03m# Print the variable course_id\u001b[39;00m\n\u001b[0;32m      9\u001b[0m \u001b[38;5;28mprint\u001b[39m(course_id)\n",
      "\u001b[1;31mTypeError\u001b[0m: can only concatenate str (not \"int\") to str"
     ]
    }
   ],
   "source": [
    "# Create the variables course_number and course_prefix\n",
    "course_prefix = \"BGEN\"\n",
    "course_number = 632\n",
    "\n",
    "# Concatenate the variables course_number and course_prefix and create a new variable course_id\n",
    "course_id = course_prefix + \" \" + course_number\n",
    "\n",
    "# Print the variable course_id\n",
    "print(course_id)"
   ]
  },
  {
   "cell_type": "markdown",
   "id": "8a5e7051-27d2-4d00-a249-3274b15eb5a9",
   "metadata": {},
   "source": [
    "To get around this, you need to convert the `int` to `str` prior to the concatenation. As an alternative, you could create the variable as a string to begin with. \n",
    "\n",
    "*Run the code example below*."
   ]
  },
  {
   "cell_type": "code",
   "execution_count": 20,
   "id": "d3bcb4cd-eb7a-4568-b033-8578e8a7d1a8",
   "metadata": {},
   "outputs": [
    {
     "name": "stdout",
     "output_type": "stream",
     "text": [
      "BGEN 632\n"
     ]
    }
   ],
   "source": [
    "# Create the variables course_number and course_prefix\n",
    "course_prefix = \"BGEN\"\n",
    "course_number = \"632\"\n",
    "\n",
    "# Concatenate the variables course_number and course_prefix and create a new variable course_id\n",
    "course_id = course_prefix + \" \" + course_number\n",
    "\n",
    "# Print the variable course_id\n",
    "print(course_id)"
   ]
  },
  {
   "cell_type": "markdown",
   "id": "b66dc5ed-9c4b-49be-80e6-b60d0ec495c1",
   "metadata": {},
   "source": [
    "This is not optimal because we lose the data type `int` and will no longer be able to perform mathematical operations on the variable.\n",
    "\n",
    "One possible solution is to perform a type conversion on the variable. *Run the example code below*. "
   ]
  },
  {
   "cell_type": "code",
   "execution_count": 21,
   "id": "4e9d92e8-343c-4469-87c4-22a7ab353499",
   "metadata": {},
   "outputs": [
    {
     "name": "stdout",
     "output_type": "stream",
     "text": [
      "BGEN 632\n"
     ]
    }
   ],
   "source": [
    "# Create the variables course_number and course_prefix\n",
    "course_prefix = \"BGEN\"\n",
    "course_number = 632\n",
    "\n",
    "# Concatenate course_number and course_prefix, converting course_number to string type, and create a new variable course_id\n",
    "course_id = course_prefix + \" \" + str(course_number)\n",
    "\n",
    "# Print the variable course_id\n",
    "print(course_id)"
   ]
  },
  {
   "cell_type": "markdown",
   "id": "f24b4f6c-3e7d-4954-ba7d-4aac166d7d4d",
   "metadata": {},
   "source": [
    "#### String Interpolation\n",
    "\n",
    "Often, you will want to avoid creating too many strings and concatenating them. One way to accomplish this is to use string interpolation.\n",
    "\n",
    "Here is an example of using a lot of concatenation. *Run the example code below*. "
   ]
  },
  {
   "cell_type": "code",
   "execution_count": 22,
   "id": "8d595f43-6698-415e-81f3-c7d9c1f3e3aa",
   "metadata": {},
   "outputs": [
    {
     "name": "stdout",
     "output_type": "stream",
     "text": [
      "Welcome to BGEN 632 Grad. Intro. to Python!\n"
     ]
    }
   ],
   "source": [
    "course_id = \"BGEN 632\"\n",
    "course_name = \"Grad. Intro. to Python\"\n",
    "intro = \"Welcome to\"\n",
    "spacing = \" \"\n",
    "punctuation = \"!\"\n",
    "\n",
    "course_intro = intro + spacing + course_id + spacing + course_name + punctuation\n",
    "\n",
    "print(course_intro)"
   ]
  },
  {
   "cell_type": "markdown",
   "id": "b07087d3-b2d5-48d9-acf6-1054ba8a0b2a",
   "metadata": {},
   "source": [
    "This can become cumbersome, especially with a lot of text. As a solution, string interpolation allows us to reference a variable's value within a string without the need to concatenate.\n",
    "\n",
    "For example, if we want to avoid concatenation for this code, we can "
   ]
  },
  {
   "cell_type": "code",
   "execution_count": 23,
   "id": "e15b61a9-a3de-48dd-9acf-6da9475d5092",
   "metadata": {},
   "outputs": [
    {
     "name": "stdout",
     "output_type": "stream",
     "text": [
      "BGEN 632\n"
     ]
    }
   ],
   "source": [
    "course_number = 632\n",
    "print(\"BGEN %d\" % (course_number))"
   ]
  },
  {
   "cell_type": "markdown",
   "id": "0ad81eb3-1de0-43d7-8381-48884f72527f",
   "metadata": {},
   "source": [
    "By using the `%d` notation inside of my string, the first variable we list after `%` replaces `%d` with its value.\n",
    "\n",
    "Here is an example of using two variables. *Run the code below*."
   ]
  },
  {
   "cell_type": "code",
   "execution_count": 24,
   "id": "522ca5b8-cb15-4aaf-9b22-f5d3a7582419",
   "metadata": {},
   "outputs": [
    {
     "name": "stdout",
     "output_type": "stream",
     "text": [
      "BGEN 632 Grad. Intro. to Python\n"
     ]
    }
   ],
   "source": [
    "course_prefix = \"BGEN\"\n",
    "course_number = 632\n",
    "\n",
    "print(\"%s %d Grad. Intro. to Python\" % (course_prefix, course_number))"
   ]
  },
  {
   "cell_type": "markdown",
   "id": "c77ee132-fa7b-4557-b9f0-518b18714195",
   "metadata": {},
   "source": [
    "What exactly is `%s` and `%d`? Why do we rely on this notation? \n",
    "* The value `%s` represents a *string* value. \n",
    "* The value `%d` represents a *numeric* value.\n",
    "\n",
    "Now that we understand how string interpolation works, how might we use it to resolve the following?\n",
    "\n",
    "```\n",
    "course_id = \"BGEN 632\"\n",
    "course_name = \"Grad. Intro. to Python\"\n",
    "intro = \"Welcome to\"\n",
    "spacing = \" \"\n",
    "punctuation = \"!\"\n",
    "\n",
    "course_intro = intro + spacing + course_id + spacing + course_name + punctuation\n",
    "\n",
    "print(course_intro)\n",
    "```\n",
    "\n",
    "*Run the code example below for a possible solution*."
   ]
  },
  {
   "cell_type": "code",
   "execution_count": 25,
   "id": "fb6234cc-a7c1-42ba-8877-f56b6cc7b7bd",
   "metadata": {},
   "outputs": [
    {
     "name": "stdout",
     "output_type": "stream",
     "text": [
      "Welcome to BGEN 632 Grad. Intro. to Python!\n"
     ]
    }
   ],
   "source": [
    "course_id = \"BGEN 632\"\n",
    "course_name = \"Grad. Intro. to Python\"\n",
    "punctuation = \"!\"\n",
    "\n",
    "print(\"Welcome to %s %s%s\" % (course_id, course_name, punctuation))"
   ]
  },
  {
   "cell_type": "markdown",
   "id": "cb3a3646-95e9-4d6b-8572-dc8a74506734",
   "metadata": {},
   "source": [
    "You can use multiple string values and/or numerical values. What if we wanted to ignore the format of the value? Say, you don't want to worry about whether a value is a string or number. "
   ]
  },
  {
   "cell_type": "code",
   "execution_count": 26,
   "id": "19b9adf0-98b8-42a2-bf60-8b47eff2d7d1",
   "metadata": {},
   "outputs": [
    {
     "name": "stdout",
     "output_type": "stream",
     "text": [
      "BGEN 632 Grad. Intro. to Python\n"
     ]
    }
   ],
   "source": [
    "course_prefix = \"BGEN\"\n",
    "course_number = 632\n",
    "\n",
    "print(\"{} {} Grad. Intro. to Python\" .format(course_prefix, course_number))"
   ]
  },
  {
   "cell_type": "markdown",
   "id": "e1a2f8ac-528b-477f-984d-bfc9658aceff",
   "metadata": {},
   "source": [
    "As useful as that is, this can become tedious. It is not very flexible. What about a simpler solution? What about inserting something inline instead of appending it at the end of the sentence?\n",
    "\n",
    "The following method of string interpolation does not require any type conversion or appending the variable at the end of the string. We can simply insert the variable inline. For this method to work, you first place the letter `f` outside of the first double quotation mark or single quotation mark (depending on which one you are using). Then, when you reference a variable inline, encapsulate it within braces `{}`.\n",
    "\n",
    "*Run the code example below*."
   ]
  },
  {
   "cell_type": "code",
   "execution_count": 27,
   "id": "ae82e365-b17c-4870-b89c-370c9f916f6e",
   "metadata": {},
   "outputs": [
    {
     "name": "stdout",
     "output_type": "stream",
     "text": [
      "BGEN 632 Grad. Intro. to Python\n"
     ]
    }
   ],
   "source": [
    "course_prefix = \"BGEN\"\n",
    "course_number = 632\n",
    "\n",
    "print(f\"{course_prefix} {course_number} Grad. Intro. to Python\")"
   ]
  },
  {
   "cell_type": "markdown",
   "id": "67d36c01-1732-4b38-922c-11cbf7eae8bd",
   "metadata": {},
   "source": [
    "The `str` type possesses many powerful built-in methods, including some that allow you to change capitalization and trim the text. You can find  information about the wide variety of string methods in the [Python documentation](https://docs.python.org/3/library/stdtypes.html#string-methods)."
   ]
  },
  {
   "cell_type": "markdown",
   "id": "d765d684-d79b-4d19-be53-1168e123a0a3",
   "metadata": {},
   "source": [
    "#### String Length and Access\n",
    "\n",
    "Often, when you need to evaluate a string using an if statement or with a loop you will need to determine the length of a string. The simplest method in Python is to use the method `len()`. \n",
    "\n",
    "*Run the code example in the code cells below*. Our string is 42 characters long. Again, with our notebooks in JupyterLab, using `print()` isn't strictly necessary."
   ]
  },
  {
   "cell_type": "code",
   "execution_count": 28,
   "id": "7660e436-d9e3-43d0-b23d-0c9102def8d4",
   "metadata": {},
   "outputs": [
    {
     "name": "stdout",
     "output_type": "stream",
     "text": [
      "43\n"
     ]
    }
   ],
   "source": [
    "course_intro = \"Welcome to BGEN 632 Grad. Intro. to Python!\"\n",
    "\n",
    "print(len(course_intro))"
   ]
  },
  {
   "cell_type": "code",
   "execution_count": 29,
   "id": "cb0ea5ed-ed90-43b2-92b2-f081294b18a2",
   "metadata": {},
   "outputs": [
    {
     "data": {
      "text/plain": [
       "43"
      ]
     },
     "execution_count": 29,
     "metadata": {},
     "output_type": "execute_result"
    }
   ],
   "source": [
    "len(course_intro)"
   ]
  },
  {
   "cell_type": "markdown",
   "id": "53d8b0cf-1f77-4271-b235-2d674abb96ad",
   "metadata": {},
   "source": [
    "Strings contain an index of its values, starting with 0. That is, if I started counting at zero at the first character and counted through all the characters in the string, each one would be assigned a value.\n",
    "\n",
    "*Run the code example below*."
   ]
  },
  {
   "cell_type": "code",
   "execution_count": 30,
   "id": "740dd3a4-3c4c-442b-9bb2-3279eeeaeb1b",
   "metadata": {},
   "outputs": [
    {
     "name": "stdout",
     "output_type": "stream",
     "text": [
      "W\n",
      "e\n",
      "l\n",
      "c\n",
      "o\n",
      "m\n",
      "e\n"
     ]
    }
   ],
   "source": [
    "print(course_intro[0])\n",
    "print(course_intro[1])\n",
    "print(course_intro[2])\n",
    "print(course_intro[3])\n",
    "print(course_intro[4])\n",
    "print(course_intro[5])\n",
    "print(course_intro[6])"
   ]
  },
  {
   "cell_type": "markdown",
   "id": "c5232486-cb3e-4cb9-a116-9edbc9a5d0c8",
   "metadata": {},
   "source": [
    "#### Escape Characters\n",
    "\n",
    "Sometimes, you want to use a double quotation marks inside a `str`. A simple solution is to use single quotes to define your string. If you want to use single quotes inside a string, you can wrap the entire string in double quotes.\n",
    "\n",
    "*Run the code example in the code cells below*. "
   ]
  },
  {
   "cell_type": "code",
   "execution_count": 31,
   "id": "c4918dbe-f4bc-4d7e-9c2c-04ea02ce2d7b",
   "metadata": {},
   "outputs": [
    {
     "name": "stdout",
     "output_type": "stream",
     "text": [
      "The machine said, \"Welcome to BGEN 632 Grad. Intro. to Python!\"\n"
     ]
    }
   ],
   "source": [
    "machine_welcome = 'The machine said, \"Welcome to BGEN 632 Grad. Intro. to Python!\"'\n",
    "print(machine_welcome)"
   ]
  },
  {
   "cell_type": "code",
   "execution_count": 32,
   "id": "0d5bbd56-8456-450a-9327-8567c41478bd",
   "metadata": {},
   "outputs": [
    {
     "name": "stdout",
     "output_type": "stream",
     "text": [
      "The machine said, 'Welcome BGEN 632 Grad. Intro. to Python!'\n"
     ]
    }
   ],
   "source": [
    "machine_welcome = \"The machine said, 'Welcome BGEN 632 Grad. Intro. to Python!'\"\n",
    "print(machine_welcome)"
   ]
  },
  {
   "cell_type": "markdown",
   "id": "e1eb4872-9431-4d89-9aa8-dba7fff57160",
   "metadata": {},
   "source": [
    "What happens if you would like to use both? One solution is to use concatenation with string interpolation. That can become confusing, though, especially because we would switch back and forth between single quotes and double quotes.\n",
    "\n",
    "Escape characters are a simple solution to this problem. Escape characters allow us to use a character that is not normally possible or accessible within a string. We inform Python we are using an escape character by relying on the backslash `\\`.\n",
    "\n",
    "As an example, let's say we would like to use double quotation marks within double quotation marks. We would use the escape character.\n",
    "\n",
    "*Run the code example below*. "
   ]
  },
  {
   "cell_type": "code",
   "execution_count": 33,
   "id": "8a8497cd-e219-4b8a-8544-fc854a725afb",
   "metadata": {},
   "outputs": [
    {
     "name": "stdout",
     "output_type": "stream",
     "text": [
      "The machine said, \"Welcome to BGEN 632 Grad. Intro. to Python!\"\n"
     ]
    }
   ],
   "source": [
    "machine_welcome = \"The machine said, \\\"Welcome to BGEN 632 Grad. Intro. to Python!\\\"\"\n",
    "print(machine_welcome)"
   ]
  },
  {
   "cell_type": "markdown",
   "id": "8481067f-b789-49fd-8dfc-21843a1f568a",
   "metadata": {
    "editable": true,
    "slideshow": {
     "slide_type": ""
    },
    "tags": []
   },
   "source": [
    "Python provides common escape characters:\n",
    "\n",
    "| Escape Character | Description |\n",
    "|:---|:---|\n",
    "| \\' | Escapes a single quote. |\n",
    "| \\\" | Escapes a double quote. |\n",
    "| \\n | Creates a new line. |\n",
    "| \\r | Carriage return. |\n",
    "| \\t | Creates a tab space. |\n",
    "| \\b | Inserts a backspace. |\n",
    "\n",
    "While other escape characters exist, these are the most common and well-known. \n",
    "\n",
    "---\n",
    "\n",
    "&#x1F389; You've reached the end of this week's tutorial! &#x1F389; \n",
    "\n",
    "Review this document as many times as you need. Practice running and modifying the code presented within this tutorial. When you feel you are ready, proceed to the instructor-led lab and complete it. Then, move on to the independent lab."
   ]
  }
 ],
 "metadata": {
  "kernelspec": {
   "display_name": "Python 3",
   "language": "python",
   "name": "python3"
  },
  "language_info": {
   "codemirror_mode": {
    "name": "ipython",
    "version": 3
   },
   "file_extension": ".py",
   "mimetype": "text/x-python",
   "name": "python",
   "nbconvert_exporter": "python",
   "pygments_lexer": "ipython3",
   "version": "3.12.2"
  }
 },
 "nbformat": 4,
 "nbformat_minor": 5
}
