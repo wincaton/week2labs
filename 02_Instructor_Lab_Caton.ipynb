{
 "cells": [
  {
   "cell_type": "markdown",
   "id": "136947c4-e057-4395-b873-a989c9008307",
   "metadata": {
    "editable": true,
    "slideshow": {
     "slide_type": ""
    },
    "tags": []
   },
   "source": [
    "UM MSBA - BGEN 632\n",
    "\n",
    "# Week 2 Instructor-led Lab\n",
    "\n",
    "In this assignment you will create basic code showcasing the concepts you learned about in the tutorial. \n",
    "\n",
    "**Create Code cells below this Markdown cell to complete the assignment. Write and run your code. To get full points, your submitted notebook must include saved output in addition to written code.** \n",
    "\n",
    "For this assignment, you are not required to create any Markdown cells but you are encouraged to do so to improve the aesthetics and organization of your lab submission. \n",
    "\n",
    "As stated in the syllabus, you <ins>must</ins> include information about your use of online resources to complete assignments, including chatbots like ChatGPT. You can include reference information within your notebooks and/or within separate files pushed to your repo on GitHub. Failure to disclose the use of online resources is a violation of course policy.\n",
    "\n",
    "## Assigning Values\n",
    "\n",
    "For this portion of the assignment, you will create variables in your notebook. You will assign a value to each variable. Please perform the following tasks and create each variable by assigning the following values:\n",
    "\n",
    "* my_int assign it a number between 1 and 20, inclusive.\n",
    "* long_a assign it the number 6,323,527,192.\n",
    "* float_pi assign it the number 3.14159\n",
    "* my_double assign it a fractional number with 13 decimals.\n",
    "* decimal_a assign it a fractional number with 20 decimals.\n",
    "* big_griz assign it the value G (uppercase).\n",
    "* my_hello assign it a greeting to the entire class.\n",
    "* my_goodbye assign it a farewell to your class.\n",
    "\n",
    "## Single Line Comments\n",
    "\n",
    "At the end of each variable, on the same line, place a single-line comment with a short description of each variable. For example, it would look like this:\n",
    "\n",
    "```\n",
    "new_double = 38.936921934     # A double with 9 decimal places\n",
    "```\n",
    "\n",
    "## Print Output\n",
    "\n",
    "Now that you have assigned values to your variables, let's print them. Output each variable individually.\n",
    "\n",
    "## Type Conversion\n",
    "\n",
    "The last task you have for this lab involves type conversion. Create new variables with the following types, names, and values. Use an explicit type conversion.\n",
    "\n",
    "* `int` named my_new_int with a number between 1 and 20, inclusive.\n",
    "* `float` named float_b with value 3.14159.\n",
    "  \n",
    "Output both variables. \n",
    "\n",
    "---"
   ]
  },
  {
   "cell_type": "code",
   "execution_count": 1,
   "id": "d66e4214-94a0-47c8-8db0-6d044515b322",
   "metadata": {},
   "outputs": [],
   "source": [
    "my_int = 17    # I selected 18 for my number\n",
    "long_a = 6323527192    # long_a is a very large number over 6 billion!\n",
    "my_double = 0.3333333333333    #1/3 here shown to 13 decimal places\n",
    "decimal_a = 0.11111111111111111111    #1/9 shown to 20 decimal places\n",
    "big_griz = \"G\"    #Just the letter G\n",
    "my_hello = \"Hi Class, Nice to be here and looking forward to learning code together!\"    #A simple greeting\n",
    "my_goodbye = \"Bye Class, It has been fun and I've learned a lot!\"    #A farewell"
   ]
  },
  {
   "cell_type": "code",
   "execution_count": 2,
   "id": "c0ce7778",
   "metadata": {},
   "outputs": [
    {
     "data": {
      "text/plain": [
       "17"
      ]
     },
     "execution_count": 2,
     "metadata": {},
     "output_type": "execute_result"
    }
   ],
   "source": [
    "my_int"
   ]
  },
  {
   "cell_type": "code",
   "execution_count": 3,
   "id": "3dedeec0",
   "metadata": {},
   "outputs": [
    {
     "data": {
      "text/plain": [
       "6323527192"
      ]
     },
     "execution_count": 3,
     "metadata": {},
     "output_type": "execute_result"
    }
   ],
   "source": [
    "long_a"
   ]
  },
  {
   "cell_type": "code",
   "execution_count": 4,
   "id": "590f62dd",
   "metadata": {},
   "outputs": [
    {
     "data": {
      "text/plain": [
       "0.3333333333333"
      ]
     },
     "execution_count": 4,
     "metadata": {},
     "output_type": "execute_result"
    }
   ],
   "source": [
    "my_double"
   ]
  },
  {
   "cell_type": "code",
   "execution_count": 5,
   "id": "a072aa16",
   "metadata": {},
   "outputs": [
    {
     "data": {
      "text/plain": [
       "0.1111111111111111"
      ]
     },
     "execution_count": 5,
     "metadata": {},
     "output_type": "execute_result"
    }
   ],
   "source": [
    "decimal_a"
   ]
  },
  {
   "cell_type": "code",
   "execution_count": 6,
   "id": "f2cc23d9",
   "metadata": {},
   "outputs": [
    {
     "data": {
      "text/plain": [
       "'G'"
      ]
     },
     "execution_count": 6,
     "metadata": {},
     "output_type": "execute_result"
    }
   ],
   "source": [
    "big_griz"
   ]
  },
  {
   "cell_type": "code",
   "execution_count": 7,
   "id": "70792d76",
   "metadata": {},
   "outputs": [
    {
     "data": {
      "text/plain": [
       "'Hi Class, Nice to be here and looking forward to learning code together!'"
      ]
     },
     "execution_count": 7,
     "metadata": {},
     "output_type": "execute_result"
    }
   ],
   "source": [
    "my_hello"
   ]
  },
  {
   "cell_type": "code",
   "execution_count": 8,
   "id": "f32a8127",
   "metadata": {},
   "outputs": [
    {
     "data": {
      "text/plain": [
       "\"Bye Class, It has been fun and I've learned a lot!\""
      ]
     },
     "execution_count": 8,
     "metadata": {},
     "output_type": "execute_result"
    }
   ],
   "source": [
    "my_goodbye"
   ]
  },
  {
   "cell_type": "code",
   "execution_count": 9,
   "id": "a6613b23",
   "metadata": {},
   "outputs": [],
   "source": [
    "my_new_int =int(18)\n",
    "float_b = float(3.14159)"
   ]
  },
  {
   "cell_type": "code",
   "execution_count": 10,
   "id": "3f6f5278",
   "metadata": {},
   "outputs": [
    {
     "data": {
      "text/plain": [
       "18"
      ]
     },
     "execution_count": 10,
     "metadata": {},
     "output_type": "execute_result"
    }
   ],
   "source": [
    "my_new_int"
   ]
  },
  {
   "cell_type": "code",
   "execution_count": 11,
   "id": "cac82288",
   "metadata": {},
   "outputs": [
    {
     "data": {
      "text/plain": [
       "3.14159"
      ]
     },
     "execution_count": 11,
     "metadata": {},
     "output_type": "execute_result"
    }
   ],
   "source": [
    "float_b"
   ]
  }
 ],
 "metadata": {
  "kernelspec": {
   "display_name": "Python 3",
   "language": "python",
   "name": "python3"
  },
  "language_info": {
   "codemirror_mode": {
    "name": "ipython",
    "version": 3
   },
   "file_extension": ".py",
   "mimetype": "text/x-python",
   "name": "python",
   "nbconvert_exporter": "python",
   "pygments_lexer": "ipython3",
   "version": "3.12.2"
  }
 },
 "nbformat": 4,
 "nbformat_minor": 5
}
